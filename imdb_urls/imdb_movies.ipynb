{
 "cells": [
  {
   "cell_type": "code",
   "execution_count": 14,
   "metadata": {},
   "outputs": [],
   "source": [
    "from selenium import webdriver\n",
    "from selenium.webdriver.common.by import By\n",
    "from selenium.webdriver.chrome.service import Service\n",
    "from selenium.webdriver.chrome.options import Options\n",
    "from bs4 import BeautifulSoup\n",
    "import requests\n",
    "import math\n",
    "import time\n",
    "\n",
    "from selenium import webdriver\n",
    "from selenium.webdriver.chrome.service import Service as ChromeService\n",
    "from webdriver_manager.chrome import ChromeDriverManager\n",
    "from selenium.webdriver.common.by import By\n",
    "from selenium.webdriver.support.ui import WebDriverWait\n",
    "from selenium.webdriver.support import expected_conditions as EC\n"
   ]
  },
  {
   "cell_type": "code",
   "execution_count": 29,
   "metadata": {},
   "outputs": [],
   "source": [
    "driver = webdriver.Chrome(service=ChromeService(\n",
    "    ChromeDriverManager().install()))"
   ]
  },
  {
   "cell_type": "code",
   "execution_count": 30,
   "metadata": {},
   "outputs": [],
   "source": [
    "driver.get(\"https://www.imdb.com/title/tt11152168/?ref_=sr_t_10\")"
   ]
  },
  {
   "cell_type": "code",
   "execution_count": 31,
   "metadata": {},
   "outputs": [],
   "source": [
    "sections = driver.find_elements(By.TAG_NAME, 'section')\n",
    "\n",
    "for section in sections:\n",
    "    driver.execute_script(\"arguments[0].scrollIntoView();\", section)\n",
    "    time.sleep(0.3)"
   ]
  },
  {
   "cell_type": "code",
   "execution_count": 32,
   "metadata": {},
   "outputs": [
    {
     "name": "stdout",
     "output_type": "stream",
     "text": [
      "Element found!\n"
     ]
    }
   ],
   "source": [
    "try:\n",
    "    element = WebDriverWait(driver, 20).until(\n",
    "        EC.presence_of_element_located(\n",
    "            (By.CSS_SELECTOR, 'section[data-testid=\"Storyline\"]'))\n",
    "    )\n",
    "    print(\"Element found!\")\n",
    "except Exception as e:\n",
    "    print(\"Element not found within the given time\")"
   ]
  },
  {
   "cell_type": "code",
   "execution_count": null,
   "metadata": {},
   "outputs": [],
   "source": []
  },
  {
   "cell_type": "code",
   "execution_count": null,
   "metadata": {},
   "outputs": [],
   "source": []
  },
  {
   "cell_type": "code",
   "execution_count": 19,
   "metadata": {},
   "outputs": [],
   "source": [
    "year = 2024\n",
    "url = f'https://www.imdb.com/search/title/?title_type=feature&release_date={year}-01-01,{year+1}-12-31'  # Replace with the URL of the site you want to scrape\n",
    "driver.get(url)"
   ]
  },
  {
   "cell_type": "code",
   "execution_count": 20,
   "metadata": {},
   "outputs": [
    {
     "data": {
      "text/plain": [
       "<selenium.webdriver.remote.webelement.WebElement (session=\"d6f4554462a65aea4ccf64c78a6c9387\", element=\"f.16B01BBAC2952B41935802B2E17CC387.d.20246AE096E93F623A721EEF67F4535F.e.155\")>"
      ]
     },
     "execution_count": 20,
     "metadata": {},
     "output_type": "execute_result"
    }
   ],
   "source": [
    "div_element = driver.find_element(By.CLASS_NAME, 'jfNgiQ')\n",
    "div_element"
   ]
  },
  {
   "cell_type": "code",
   "execution_count": 21,
   "metadata": {},
   "outputs": [],
   "source": [
    "total_movies_data = div_element.text"
   ]
  },
  {
   "cell_type": "code",
   "execution_count": 22,
   "metadata": {},
   "outputs": [],
   "source": [
    "a, b = total_movies_data.split(\"of\")\n",
    "_, no_of_card_per_req = a.strip().split(\"-\")\n",
    "total_no_of_card = b.replace(\",\", \"\")"
   ]
  },
  {
   "cell_type": "code",
   "execution_count": 23,
   "metadata": {},
   "outputs": [
    {
     "data": {
      "text/plain": [
       "265"
      ]
     },
     "execution_count": 23,
     "metadata": {},
     "output_type": "execute_result"
    }
   ],
   "source": [
    "\n",
    "no_of_clicks = math.ceil(int(total_no_of_card) / int(no_of_card_per_req))\n",
    "no_of_clicks"
   ]
  },
  {
   "cell_type": "code",
   "execution_count": 24,
   "metadata": {},
   "outputs": [],
   "source": [
    "span =  driver.find_element(By.CLASS_NAME, 'jfNgiQ')"
   ]
  },
  {
   "cell_type": "code",
   "execution_count": 25,
   "metadata": {},
   "outputs": [
    {
     "data": {
      "text/plain": [
       "<selenium.webdriver.remote.webelement.WebElement (session=\"d6f4554462a65aea4ccf64c78a6c9387\", element=\"f.16B01BBAC2952B41935802B2E17CC387.d.20246AE096E93F623A721EEF67F4535F.e.157\")>"
      ]
     },
     "execution_count": 25,
     "metadata": {},
     "output_type": "execute_result"
    }
   ],
   "source": [
    "span = WebDriverWait(driver, 10).until(\n",
    "        EC.presence_of_element_located((By.CLASS_NAME, 'ipc-see-more'))\n",
    "    )\n",
    "    \n",
    "    # Find the button within the span element\n",
    "button = span.find_element(By.TAG_NAME, 'button')\n",
    "\n",
    "# Click the button\n",
    "# button.click()\n",
    "button"
   ]
  },
  {
   "cell_type": "code",
   "execution_count": 26,
   "metadata": {},
   "outputs": [],
   "source": [
    "driver.execute_script(\"window.scrollTo(arguments[0], arguments[1]);\", button.location['x'], button.location['y'] - 100)"
   ]
  },
  {
   "cell_type": "code",
   "execution_count": 27,
   "metadata": {},
   "outputs": [
    {
     "ename": "ElementClickInterceptedException",
     "evalue": "Message: element click intercepted: Element is not clickable at point (400, 9730)\n  (Session info: chrome=127.0.6533.89)\nStacktrace:\n\tGetHandleVerifier [0x00918923+23283]\n\t(No symbol) [0x008DE934]\n\t(No symbol) [0x00810733]\n\t(No symbol) [0x008591C7]\n\t(No symbol) [0x008575D9]\n\t(No symbol) [0x008554CB]\n\t(No symbol) [0x00854AAF]\n\t(No symbol) [0x008499EF]\n\t(No symbol) [0x0087441C]\n\t(No symbol) [0x00849485]\n\t(No symbol) [0x008746B4]\n\t(No symbol) [0x0088CB8D]\n\t(No symbol) [0x008741B6]\n\t(No symbol) [0x00848017]\n\t(No symbol) [0x0084890D]\n\tGetHandleVerifier [0x00A0A5F3+1013699]\n\tGetHandleVerifier [0x00A13E4C+1052700]\n\tGetHandleVerifier [0x00A0D4B4+1025668]\n\tGetHandleVerifier [0x0093EA2B+179195]\n\t(No symbol) [0x008E6833]\n\t(No symbol) [0x008E3198]\n\t(No symbol) [0x008E3337]\n\t(No symbol) [0x008DB4BE]\n\tBaseThreadInitThunk [0x755700C9+25]\n\tRtlGetAppContainerNamedObjectPath [0x77447B1E+286]\n\tRtlGetAppContainerNamedObjectPath [0x77447AEE+238]\n",
     "output_type": "error",
     "traceback": [
      "\u001b[1;31m---------------------------------------------------------------------------\u001b[0m",
      "\u001b[1;31mElementClickInterceptedException\u001b[0m          Traceback (most recent call last)",
      "Cell \u001b[1;32mIn[27], line 1\u001b[0m\n\u001b[1;32m----> 1\u001b[0m \u001b[43mbutton\u001b[49m\u001b[38;5;241;43m.\u001b[39;49m\u001b[43mclick\u001b[49m\u001b[43m(\u001b[49m\u001b[43m)\u001b[49m\n",
      "File \u001b[1;32md:\\Gaurav\\PRACTICE\\PYTHON\\imdb-scraping\\.venv\\Lib\\site-packages\\selenium\\webdriver\\remote\\webelement.py:94\u001b[0m, in \u001b[0;36mWebElement.click\u001b[1;34m(self)\u001b[0m\n\u001b[0;32m     92\u001b[0m \u001b[38;5;28;01mdef\u001b[39;00m \u001b[38;5;21mclick\u001b[39m(\u001b[38;5;28mself\u001b[39m) \u001b[38;5;241m-\u001b[39m\u001b[38;5;241m>\u001b[39m \u001b[38;5;28;01mNone\u001b[39;00m:\n\u001b[0;32m     93\u001b[0m \u001b[38;5;250m    \u001b[39m\u001b[38;5;124;03m\"\"\"Clicks the element.\"\"\"\u001b[39;00m\n\u001b[1;32m---> 94\u001b[0m     \u001b[38;5;28;43mself\u001b[39;49m\u001b[38;5;241;43m.\u001b[39;49m\u001b[43m_execute\u001b[49m\u001b[43m(\u001b[49m\u001b[43mCommand\u001b[49m\u001b[38;5;241;43m.\u001b[39;49m\u001b[43mCLICK_ELEMENT\u001b[49m\u001b[43m)\u001b[49m\n",
      "File \u001b[1;32md:\\Gaurav\\PRACTICE\\PYTHON\\imdb-scraping\\.venv\\Lib\\site-packages\\selenium\\webdriver\\remote\\webelement.py:395\u001b[0m, in \u001b[0;36mWebElement._execute\u001b[1;34m(self, command, params)\u001b[0m\n\u001b[0;32m    393\u001b[0m     params \u001b[38;5;241m=\u001b[39m {}\n\u001b[0;32m    394\u001b[0m params[\u001b[38;5;124m\"\u001b[39m\u001b[38;5;124mid\u001b[39m\u001b[38;5;124m\"\u001b[39m] \u001b[38;5;241m=\u001b[39m \u001b[38;5;28mself\u001b[39m\u001b[38;5;241m.\u001b[39m_id\n\u001b[1;32m--> 395\u001b[0m \u001b[38;5;28;01mreturn\u001b[39;00m \u001b[38;5;28;43mself\u001b[39;49m\u001b[38;5;241;43m.\u001b[39;49m\u001b[43m_parent\u001b[49m\u001b[38;5;241;43m.\u001b[39;49m\u001b[43mexecute\u001b[49m\u001b[43m(\u001b[49m\u001b[43mcommand\u001b[49m\u001b[43m,\u001b[49m\u001b[43m \u001b[49m\u001b[43mparams\u001b[49m\u001b[43m)\u001b[49m\n",
      "File \u001b[1;32md:\\Gaurav\\PRACTICE\\PYTHON\\imdb-scraping\\.venv\\Lib\\site-packages\\selenium\\webdriver\\remote\\webdriver.py:354\u001b[0m, in \u001b[0;36mWebDriver.execute\u001b[1;34m(self, driver_command, params)\u001b[0m\n\u001b[0;32m    352\u001b[0m response \u001b[38;5;241m=\u001b[39m \u001b[38;5;28mself\u001b[39m\u001b[38;5;241m.\u001b[39mcommand_executor\u001b[38;5;241m.\u001b[39mexecute(driver_command, params)\n\u001b[0;32m    353\u001b[0m \u001b[38;5;28;01mif\u001b[39;00m response:\n\u001b[1;32m--> 354\u001b[0m     \u001b[38;5;28;43mself\u001b[39;49m\u001b[38;5;241;43m.\u001b[39;49m\u001b[43merror_handler\u001b[49m\u001b[38;5;241;43m.\u001b[39;49m\u001b[43mcheck_response\u001b[49m\u001b[43m(\u001b[49m\u001b[43mresponse\u001b[49m\u001b[43m)\u001b[49m\n\u001b[0;32m    355\u001b[0m     response[\u001b[38;5;124m\"\u001b[39m\u001b[38;5;124mvalue\u001b[39m\u001b[38;5;124m\"\u001b[39m] \u001b[38;5;241m=\u001b[39m \u001b[38;5;28mself\u001b[39m\u001b[38;5;241m.\u001b[39m_unwrap_value(response\u001b[38;5;241m.\u001b[39mget(\u001b[38;5;124m\"\u001b[39m\u001b[38;5;124mvalue\u001b[39m\u001b[38;5;124m\"\u001b[39m, \u001b[38;5;28;01mNone\u001b[39;00m))\n\u001b[0;32m    356\u001b[0m     \u001b[38;5;28;01mreturn\u001b[39;00m response\n",
      "File \u001b[1;32md:\\Gaurav\\PRACTICE\\PYTHON\\imdb-scraping\\.venv\\Lib\\site-packages\\selenium\\webdriver\\remote\\errorhandler.py:229\u001b[0m, in \u001b[0;36mErrorHandler.check_response\u001b[1;34m(self, response)\u001b[0m\n\u001b[0;32m    227\u001b[0m         alert_text \u001b[38;5;241m=\u001b[39m value[\u001b[38;5;124m\"\u001b[39m\u001b[38;5;124malert\u001b[39m\u001b[38;5;124m\"\u001b[39m]\u001b[38;5;241m.\u001b[39mget(\u001b[38;5;124m\"\u001b[39m\u001b[38;5;124mtext\u001b[39m\u001b[38;5;124m\"\u001b[39m)\n\u001b[0;32m    228\u001b[0m     \u001b[38;5;28;01mraise\u001b[39;00m exception_class(message, screen, stacktrace, alert_text)  \u001b[38;5;66;03m# type: ignore[call-arg]  # mypy is not smart enough here\u001b[39;00m\n\u001b[1;32m--> 229\u001b[0m \u001b[38;5;28;01mraise\u001b[39;00m exception_class(message, screen, stacktrace)\n",
      "\u001b[1;31mElementClickInterceptedException\u001b[0m: Message: element click intercepted: Element is not clickable at point (400, 9730)\n  (Session info: chrome=127.0.6533.89)\nStacktrace:\n\tGetHandleVerifier [0x00918923+23283]\n\t(No symbol) [0x008DE934]\n\t(No symbol) [0x00810733]\n\t(No symbol) [0x008591C7]\n\t(No symbol) [0x008575D9]\n\t(No symbol) [0x008554CB]\n\t(No symbol) [0x00854AAF]\n\t(No symbol) [0x008499EF]\n\t(No symbol) [0x0087441C]\n\t(No symbol) [0x00849485]\n\t(No symbol) [0x008746B4]\n\t(No symbol) [0x0088CB8D]\n\t(No symbol) [0x008741B6]\n\t(No symbol) [0x00848017]\n\t(No symbol) [0x0084890D]\n\tGetHandleVerifier [0x00A0A5F3+1013699]\n\tGetHandleVerifier [0x00A13E4C+1052700]\n\tGetHandleVerifier [0x00A0D4B4+1025668]\n\tGetHandleVerifier [0x0093EA2B+179195]\n\t(No symbol) [0x008E6833]\n\t(No symbol) [0x008E3198]\n\t(No symbol) [0x008E3337]\n\t(No symbol) [0x008DB4BE]\n\tBaseThreadInitThunk [0x755700C9+25]\n\tRtlGetAppContainerNamedObjectPath [0x77447B1E+286]\n\tRtlGetAppContainerNamedObjectPath [0x77447AEE+238]\n"
     ]
    }
   ],
   "source": [
    "button.click()"
   ]
  },
  {
   "cell_type": "code",
   "execution_count": null,
   "metadata": {},
   "outputs": [],
   "source": [
    "import time\n",
    "for i in range(5):\n",
    "    driver.execute_script(\"window.scrollTo(arguments[0], arguments[1]);\", button.location['x'], button.location['y'] - 100)\n",
    "    time.sleep(0.5)\n",
    "    button.click()\n",
    "    time.sleep(3)"
   ]
  },
  {
   "cell_type": "code",
   "execution_count": null,
   "metadata": {},
   "outputs": [],
   "source": [
    "import os\n",
    "html_content = driver.page_source\n",
    "# path = os.path.join('data', 'movies_list_year_2024.html')\n",
    "with open('movies_list_year_2024.html', 'w', encoding='utf-8') as file:\n",
    "    file.write(html_content)"
   ]
  },
  {
   "cell_type": "code",
   "execution_count": null,
   "metadata": {},
   "outputs": [],
   "source": [
    "soup = BeautifulSoup(html_content, \"html.parser\")\n"
   ]
  },
  {
   "cell_type": "code",
   "execution_count": null,
   "metadata": {},
   "outputs": [],
   "source": [
    "ul = soup.find('ul',class_='ipc-metadata-list')"
   ]
  },
  {
   "cell_type": "code",
   "execution_count": null,
   "metadata": {},
   "outputs": [],
   "source": [
    "cards = ul.find_all('li')"
   ]
  },
  {
   "cell_type": "code",
   "execution_count": null,
   "metadata": {},
   "outputs": [],
   "source": [
    "card = cards[0]"
   ]
  },
  {
   "cell_type": "code",
   "execution_count": null,
   "metadata": {},
   "outputs": [
    {
     "data": {
      "text/plain": [
       "'1. Longlegs'"
      ]
     },
     "execution_count": 27,
     "metadata": {},
     "output_type": "execute_result"
    }
   ],
   "source": [
    "card.find('div',class_='ipc-title').text"
   ]
  },
  {
   "cell_type": "code",
   "execution_count": null,
   "metadata": {},
   "outputs": [
    {
     "data": {
      "text/plain": [
       "'/title/tt23468450/?ref_=sr_t_1'"
      ]
     },
     "execution_count": 29,
     "metadata": {},
     "output_type": "execute_result"
    }
   ],
   "source": [
    "card.find('div',class_='ipc-title').find('a').get('href')"
   ]
  },
  {
   "cell_type": "code",
   "execution_count": null,
   "metadata": {},
   "outputs": [],
   "source": [
    "items = []\n",
    "for card in cards:\n",
    "    title = card.find('div',class_='ipc-title').text\n",
    "    url = 'https://www.imdb.com' + card.find('div',class_='ipc-title').find('a').get('href')\n",
    "    items.append(\n",
    "        {\n",
    "            \"title\" : title,\n",
    "            \"url\" : url\n",
    "        }\n",
    "    )"
   ]
  },
  {
   "cell_type": "code",
   "execution_count": null,
   "metadata": {},
   "outputs": [],
   "source": [
    "import json\n",
    "with open('movies_list_2024.json', 'w', encoding='utf-8') as json_file:\n",
    "    json_file.write(json.dumps(items))"
   ]
  },
  {
   "cell_type": "code",
   "execution_count": null,
   "metadata": {},
   "outputs": [],
   "source": []
  }
 ],
 "metadata": {
  "kernelspec": {
   "display_name": ".venv",
   "language": "python",
   "name": "python3"
  },
  "language_info": {
   "codemirror_mode": {
    "name": "ipython",
    "version": 3
   },
   "file_extension": ".py",
   "mimetype": "text/x-python",
   "name": "python",
   "nbconvert_exporter": "python",
   "pygments_lexer": "ipython3",
   "version": "3.11.5"
  }
 },
 "nbformat": 4,
 "nbformat_minor": 2
}
